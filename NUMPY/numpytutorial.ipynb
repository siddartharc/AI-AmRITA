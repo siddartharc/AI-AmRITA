{
  "nbformat": 4,
  "nbformat_minor": 0,
  "metadata": {
    "colab": {
      "name": "numpy.ipynb",
      "provenance": [],
      "authorship_tag": "ABX9TyPQEstmeXMIO6lmAZQvlTM3",
      "include_colab_link": true
    },
    "kernelspec": {
      "name": "python3",
      "display_name": "Python 3"
    },
    "language_info": {
      "name": "python"
    }
  },
  "cells": [
    {
      "cell_type": "markdown",
      "metadata": {
        "id": "view-in-github",
        "colab_type": "text"
      },
      "source": [
        "<a href=\"https://colab.research.google.com/github/siddartharc/AI-AmRITA/blob/main/numpy.ipynb\" target=\"_parent\"><img src=\"https://colab.research.google.com/assets/colab-badge.svg\" alt=\"Open In Colab\"/></a>"
      ]
    },
    {
      "cell_type": "code",
      "metadata": {
        "id": "nhUULuwcFwBZ"
      },
      "source": [
        "import numpy as np"
      ],
      "execution_count": 1,
      "outputs": []
    },
    {
      "cell_type": "markdown",
      "metadata": {
        "id": "2kOJbnY7F9sM"
      },
      "source": [
        "Numpy in **lists**"
      ]
    },
    {
      "cell_type": "code",
      "metadata": {
        "colab": {
          "base_uri": "https://localhost:8080/"
        },
        "id": "q9N5JVQbGBgi",
        "outputId": "fb8546c7-cae7-4307-90ab-9ca4233343a7"
      },
      "source": [
        "PythonList = [69,18,1,45]\n",
        "print(PythonList)"
      ],
      "execution_count": 2,
      "outputs": [
        {
          "output_type": "stream",
          "text": [
            "[69, 18, 1, 45]\n"
          ],
          "name": "stdout"
        }
      ]
    },
    {
      "cell_type": "markdown",
      "metadata": {
        "id": "nDKtkRwBGm9a"
      },
      "source": [
        "Numpy in **array**"
      ]
    },
    {
      "cell_type": "code",
      "metadata": {
        "colab": {
          "base_uri": "https://localhost:8080/"
        },
        "id": "tMGV8nNmGpek",
        "outputId": "ccfe410c-c6a3-4aa4-d5c0-a632bf37c275"
      },
      "source": [
        "numpy_array = np.array(PythonList)\n",
        "numpy_array"
      ],
      "execution_count": 3,
      "outputs": [
        {
          "output_type": "execute_result",
          "data": {
            "text/plain": [
              "array([69, 18,  1, 45])"
            ]
          },
          "metadata": {
            "tags": []
          },
          "execution_count": 3
        }
      ]
    },
    {
      "cell_type": "code",
      "metadata": {
        "colab": {
          "base_uri": "https://localhost:8080/"
        },
        "id": "yJbn5rmeGxmU",
        "outputId": "7ad13341-20a5-436e-a751-b757e97a0730"
      },
      "source": [
        "a = numpy_array+15\n",
        "print(a)"
      ],
      "execution_count": 5,
      "outputs": [
        {
          "output_type": "stream",
          "text": [
            "[84 33 16 60]\n"
          ],
          "name": "stdout"
        }
      ]
    },
    {
      "cell_type": "code",
      "metadata": {
        "colab": {
          "base_uri": "https://localhost:8080/"
        },
        "id": "XLfd0akmG1HR",
        "outputId": "c025b34b-e74b-48ca-e3af-19dad5f37046"
      },
      "source": [
        "a = np.array([1,2,13])\n",
        "print(a)"
      ],
      "execution_count": 6,
      "outputs": [
        {
          "output_type": "stream",
          "text": [
            "[ 1  2 13]\n"
          ],
          "name": "stdout"
        }
      ]
    },
    {
      "cell_type": "code",
      "metadata": {
        "colab": {
          "base_uri": "https://localhost:8080/"
        },
        "id": "DTkXjhXWHFWH",
        "outputId": "15e32edb-9021-4857-ed30-5878c835588b"
      },
      "source": [
        "b = a +15\n",
        "print(b)"
      ],
      "execution_count": 7,
      "outputs": [
        {
          "output_type": "stream",
          "text": [
            "[16 17 28]\n"
          ],
          "name": "stdout"
        }
      ]
    },
    {
      "cell_type": "code",
      "metadata": {
        "colab": {
          "base_uri": "https://localhost:8080/"
        },
        "id": "wz3JNgCmHJfn",
        "outputId": "c234eb42-6f9b-4bf1-8849-f3ac1e18a212"
      },
      "source": [
        "print(a.shape)\n",
        "print(a.dtype)"
      ],
      "execution_count": 8,
      "outputs": [
        {
          "output_type": "stream",
          "text": [
            "(3,)\n",
            "int64\n"
          ],
          "name": "stdout"
        }
      ]
    },
    {
      "cell_type": "code",
      "metadata": {
        "colab": {
          "base_uri": "https://localhost:8080/"
        },
        "id": "3mMIkhCpHM_I",
        "outputId": "77fda624-39ed-4142-812d-b28043783a55"
      },
      "source": [
        "c = np.array([(12,21,82,10),\n",
        "              (14,53,7,17)])\n",
        "print(c)"
      ],
      "execution_count": 10,
      "outputs": [
        {
          "output_type": "stream",
          "text": [
            "[[12 21 82 10]\n",
            " [14 53  7 17]]\n"
          ],
          "name": "stdout"
        }
      ]
    },
    {
      "cell_type": "code",
      "metadata": {
        "colab": {
          "base_uri": "https://localhost:8080/"
        },
        "id": "tyZSxDGuHV0v",
        "outputId": "5f80b90b-7ed0-4a2a-eb60-08be3726ed06"
      },
      "source": [
        "d = np.array([\n",
        "    [[1, 2,3],\n",
        "        [4, 5, 6]],\n",
        "      [[7, 8,9],\n",
        "        [10, 11, 12]]\n",
        "])\n",
        "print(d.shape)"
      ],
      "execution_count": 11,
      "outputs": [
        {
          "output_type": "stream",
          "text": [
            "(2, 2, 3)\n"
          ],
          "name": "stdout"
        }
      ]
    },
    {
      "cell_type": "markdown",
      "metadata": {
        "id": "dbGQrXrgHaVy"
      },
      "source": [
        "Print 3 **rows** 3 **columns** of **ones**"
      ]
    },
    {
      "cell_type": "code",
      "metadata": {
        "colab": {
          "base_uri": "https://localhost:8080/"
        },
        "id": "SHVXKZEBHjEp",
        "outputId": "1fc177e7-5bfc-46b4-f4eb-bde6dea53788"
      },
      "source": [
        "x=np.ones((3,3), dtype=np.int16)\n",
        "print(x)"
      ],
      "execution_count": 12,
      "outputs": [
        {
          "output_type": "stream",
          "text": [
            "[[1 1 1]\n",
            " [1 1 1]\n",
            " [1 1 1]]\n"
          ],
          "name": "stdout"
        }
      ]
    },
    {
      "cell_type": "markdown",
      "metadata": {
        "id": "GNjjLmWUHwyR"
      },
      "source": [
        "TO PRINT 3 **TIMES** OF 3 **ROWS** 5 **COLUMNS** OF **ones**"
      ]
    },
    {
      "cell_type": "code",
      "metadata": {
        "colab": {
          "base_uri": "https://localhost:8080/"
        },
        "id": "wlyxOf7SH5OY",
        "outputId": "2423572a-91c6-43e5-bb0b-17638d8a59c3"
      },
      "source": [
        "y=np.ones((3,3,5), dtype=np.int16)\n",
        "print(y)"
      ],
      "execution_count": 16,
      "outputs": [
        {
          "output_type": "stream",
          "text": [
            "[[[1 1 1 1 1]\n",
            "  [1 1 1 1 1]\n",
            "  [1 1 1 1 1]]\n",
            "\n",
            " [[1 1 1 1 1]\n",
            "  [1 1 1 1 1]\n",
            "  [1 1 1 1 1]]\n",
            "\n",
            " [[1 1 1 1 1]\n",
            "  [1 1 1 1 1]\n",
            "  [1 1 1 1 1]]]\n"
          ],
          "name": "stdout"
        }
      ]
    },
    {
      "cell_type": "markdown",
      "metadata": {
        "id": "uTFnqCD7ISa-"
      },
      "source": [
        "RESHAPE to 2 **ELEMENT** LISTS"
      ]
    },
    {
      "cell_type": "code",
      "metadata": {
        "colab": {
          "base_uri": "https://localhost:8080/"
        },
        "id": "fMm_V178IYhr",
        "outputId": "a3b00c1b-bb14-4577-ad0d-ee848b8216b5"
      },
      "source": [
        "e  = np.array([(1,2,3), (4,5,6)])\n",
        "print(e)\n",
        "e.reshape(3,2)"
      ],
      "execution_count": 19,
      "outputs": [
        {
          "output_type": "stream",
          "text": [
            "[[1 2 3]\n",
            " [4 5 6]]\n"
          ],
          "name": "stdout"
        },
        {
          "output_type": "execute_result",
          "data": {
            "text/plain": [
              "array([[1, 2],\n",
              "       [3, 4],\n",
              "       [5, 6]])"
            ]
          },
          "metadata": {
            "tags": []
          },
          "execution_count": 19
        }
      ]
    },
    {
      "cell_type": "code",
      "metadata": {
        "colab": {
          "base_uri": "https://localhost:8080/"
        },
        "id": "bRbuD87RIm9N",
        "outputId": "06e96f30-010c-419e-dd5a-a17aacc6d251"
      },
      "source": [
        "print(e)"
      ],
      "execution_count": 20,
      "outputs": [
        {
          "output_type": "stream",
          "text": [
            "[[1 2 3]\n",
            " [4 5 6]]\n"
          ],
          "name": "stdout"
        }
      ]
    },
    {
      "cell_type": "code",
      "metadata": {
        "colab": {
          "base_uri": "https://localhost:8080/"
        },
        "id": "_oFXaoIKIqoD",
        "outputId": "d64554b8-5ac3-49c5-83a7-3b387f0d1842"
      },
      "source": [
        "print('First row:', e[0])\n",
        "print('Second row:', e[1])"
      ],
      "execution_count": 21,
      "outputs": [
        {
          "output_type": "stream",
          "text": [
            "First row: [1 2 3]\n",
            "Second row: [4 5 6]\n"
          ],
          "name": "stdout"
        }
      ]
    },
    {
      "cell_type": "code",
      "metadata": {
        "colab": {
          "base_uri": "https://localhost:8080/"
        },
        "id": "XF3kcx1kIs_4",
        "outputId": "834061fa-4f69-4799-e62a-206567b3d4b7"
      },
      "source": [
        "print('Second column:', e[:,1])"
      ],
      "execution_count": 22,
      "outputs": [
        {
          "output_type": "stream",
          "text": [
            "Second column: [2 5]\n"
          ],
          "name": "stdout"
        }
      ]
    },
    {
      "cell_type": "code",
      "metadata": {
        "colab": {
          "base_uri": "https://localhost:8080/"
        },
        "id": "nyJ7geIyI3RP",
        "outputId": "729e1777-c33e-4182-f9e9-d0352e3ceb34"
      },
      "source": [
        "print(e[1, :2])"
      ],
      "execution_count": 23,
      "outputs": [
        {
          "output_type": "stream",
          "text": [
            "[4 5]\n"
          ],
          "name": "stdout"
        }
      ]
    },
    {
      "cell_type": "code",
      "metadata": {
        "colab": {
          "base_uri": "https://localhost:8080/"
        },
        "id": "ZEFn8oJeI6Xq",
        "outputId": "7c341ab8-a505-4a5d-dd58-ffc7328c06c9"
      },
      "source": [
        "e.flatten()"
      ],
      "execution_count": 24,
      "outputs": [
        {
          "output_type": "execute_result",
          "data": {
            "text/plain": [
              "array([1, 2, 3, 4, 5, 6])"
            ]
          },
          "metadata": {
            "tags": []
          },
          "execution_count": 24
        }
      ]
    },
    {
      "cell_type": "markdown",
      "metadata": {
        "id": "MjWUYHt6I_VG"
      },
      "source": [
        "**HORIZONTAL AND VERTICAL STACK**"
      ]
    },
    {
      "cell_type": "code",
      "metadata": {
        "colab": {
          "base_uri": "https://localhost:8080/"
        },
        "id": "CdrAK1fhJFbM",
        "outputId": "1a97ed6e-8715-4038-8329-a0b125b2bbdf"
      },
      "source": [
        "f = np.array([1,2,3])\n",
        "g = np.array([4,5,6])\n",
        "\n",
        "print('Horizontal Append:', np.hstack((f, g)))\n",
        "print(\"Vertical append:\")\n",
        "print(np.vstack((f,g)))"
      ],
      "execution_count": 25,
      "outputs": [
        {
          "output_type": "stream",
          "text": [
            "Horizontal Append: [1 2 3 4 5 6]\n",
            "Vertical append:\n",
            "[[1 2 3]\n",
            " [4 5 6]]\n"
          ],
          "name": "stdout"
        }
      ]
    },
    {
      "cell_type": "markdown",
      "metadata": {
        "id": "wqVRp-9YJWqL"
      },
      "source": [
        "TO FIND A **LIST** OF **RANDOM** **ELEMENTS**"
      ]
    },
    {
      "cell_type": "code",
      "metadata": {
        "colab": {
          "base_uri": "https://localhost:8080/"
        },
        "id": "NNpGZeQoJaE5",
        "outputId": "746be3ef-ac2f-4aff-b5a1-35ef22377534"
      },
      "source": [
        "normal_array = np.random.normal(15, 2, 5)\n",
        "print(normal_array)"
      ],
      "execution_count": 27,
      "outputs": [
        {
          "output_type": "stream",
          "text": [
            "[16.62417335 13.85807366 18.28156571 16.09434572 13.43334681]\n"
          ],
          "name": "stdout"
        }
      ]
    },
    {
      "cell_type": "markdown",
      "metadata": {
        "id": "nkoHqp0DJwvK"
      },
      "source": [
        "FIND **MIN** , **MAX**, **MEAN**, **MEDIAN**,**STD** FROM A LISTS"
      ]
    },
    {
      "cell_type": "code",
      "metadata": {
        "colab": {
          "base_uri": "https://localhost:8080/"
        },
        "id": "3V25W7NHJ0DW",
        "outputId": "e9396e57-4b91-422f-b010-5905b736e327"
      },
      "source": [
        "print(np.min(normal_array))\n",
        "print(np.max(normal_array))\n",
        "print(np.mean(normal_array))\n",
        "print(np.median(normal_array))\n",
        "print(np.std(normal_array))"
      ],
      "execution_count": 28,
      "outputs": [
        {
          "output_type": "stream",
          "text": [
            "13.433346806937667\n",
            "18.281565708690927\n",
            "15.65830104887356\n",
            "16.09434571798151\n",
            "1.7997667501631733\n"
          ],
          "name": "stdout"
        }
      ]
    },
    {
      "cell_type": "markdown",
      "metadata": {
        "id": "jG-KkvjEJ5H9"
      },
      "source": [
        "TO **PRINT** ELEMENTS IN **RANGE**"
      ]
    },
    {
      "cell_type": "code",
      "metadata": {
        "colab": {
          "base_uri": "https://localhost:8080/"
        },
        "id": "OWQG264QJ7fa",
        "outputId": "db38d0cd-35a6-49bc-cc7b-75893ab47724"
      },
      "source": [
        "np.arange(1, 7)"
      ],
      "execution_count": 29,
      "outputs": [
        {
          "output_type": "execute_result",
          "data": {
            "text/plain": [
              "array([1, 2, 3, 4, 5, 6])"
            ]
          },
          "metadata": {
            "tags": []
          },
          "execution_count": 29
        }
      ]
    },
    {
      "cell_type": "code",
      "metadata": {
        "colab": {
          "base_uri": "https://localhost:8080/"
        },
        "id": "RoTMcVgiKLny",
        "outputId": "dd5d0a70-d96c-4e3f-a841-a3a5309d6752"
      },
      "source": [
        "np.arange(1, 11,3)"
      ],
      "execution_count": 30,
      "outputs": [
        {
          "output_type": "execute_result",
          "data": {
            "text/plain": [
              "array([ 1,  4,  7, 10])"
            ]
          },
          "metadata": {
            "tags": []
          },
          "execution_count": 30
        }
      ]
    },
    {
      "cell_type": "code",
      "metadata": {
        "colab": {
          "base_uri": "https://localhost:8080/"
        },
        "id": "y26zsveRKOiI",
        "outputId": "bfc88704-6f98-4712-b828-374d5d9c39a0"
      },
      "source": [
        "np.linspace(1.0, 11.0, num=10)"
      ],
      "execution_count": 31,
      "outputs": [
        {
          "output_type": "execute_result",
          "data": {
            "text/plain": [
              "array([ 1.        ,  2.11111111,  3.22222222,  4.33333333,  5.44444444,\n",
              "        6.55555556,  7.66666667,  8.77777778,  9.88888889, 11.        ])"
            ]
          },
          "metadata": {
            "tags": []
          },
          "execution_count": 31
        }
      ]
    },
    {
      "cell_type": "code",
      "metadata": {
        "colab": {
          "base_uri": "https://localhost:8080/"
        },
        "id": "eDIfS-WiKVvC",
        "outputId": "026c5bf6-a29a-4df3-8cee-6a2c2ce56e6c"
      },
      "source": [
        "np.linspace(1.0, 5.0, num=5, endpoint=False)"
      ],
      "execution_count": 32,
      "outputs": [
        {
          "output_type": "execute_result",
          "data": {
            "text/plain": [
              "array([1. , 1.8, 2.6, 3.4, 4.2])"
            ]
          },
          "metadata": {
            "tags": []
          },
          "execution_count": 32
        }
      ]
    },
    {
      "cell_type": "code",
      "metadata": {
        "colab": {
          "base_uri": "https://localhost:8080/"
        },
        "id": "PYnZaEgJKcr3",
        "outputId": "4de97788-8620-401a-8359-0d69d79751b8"
      },
      "source": [
        "np.logspace(3.0, 4.0, num=4)"
      ],
      "execution_count": 33,
      "outputs": [
        {
          "output_type": "execute_result",
          "data": {
            "text/plain": [
              "array([ 1000.        ,  2154.43469003,  4641.58883361, 10000.        ])"
            ]
          },
          "metadata": {
            "tags": []
          },
          "execution_count": 33
        }
      ]
    },
    {
      "cell_type": "code",
      "metadata": {
        "colab": {
          "base_uri": "https://localhost:8080/"
        },
        "id": "7ijHu4VTKgUk",
        "outputId": "b6502d5f-7621-455d-d80f-7db8b9e8872f"
      },
      "source": [
        "x = np.array([1,2,3], dtype=np.complex128)\n",
        "x.itemsize"
      ],
      "execution_count": 34,
      "outputs": [
        {
          "output_type": "execute_result",
          "data": {
            "text/plain": [
              "16"
            ]
          },
          "metadata": {
            "tags": []
          },
          "execution_count": 34
        }
      ]
    },
    {
      "cell_type": "markdown",
      "metadata": {
        "id": "-Tque6QfKmok"
      },
      "source": [
        "TO FIND **DOT** PRODUCT OF **MATRIX**"
      ]
    },
    {
      "cell_type": "code",
      "metadata": {
        "colab": {
          "base_uri": "https://localhost:8080/"
        },
        "id": "aFVsFPboKpvQ",
        "outputId": "ed1323fc-cc08-407f-ca61-89f2b5683a92"
      },
      "source": [
        "f = np.array([12,21,34])\n",
        "g = np.array([14,15,13])\n",
        "np.dot(f, g)"
      ],
      "execution_count": 36,
      "outputs": [
        {
          "output_type": "execute_result",
          "data": {
            "text/plain": [
              "925"
            ]
          },
          "metadata": {
            "tags": []
          },
          "execution_count": 36
        }
      ]
    },
    {
      "cell_type": "markdown",
      "metadata": {
        "id": "PwWS_7UFLLM9"
      },
      "source": [
        "TO FIND THE **INVERSE** OF MAT**R**IX"
      ]
    },
    {
      "cell_type": "code",
      "metadata": {
        "colab": {
          "base_uri": "https://localhost:8080/"
        },
        "id": "77WXKf8bLNXM",
        "outputId": "c5b71a08-62ec-451f-de63-afb74177b2aa"
      },
      "source": [
        "A = np.array([[16, 11, 12],\n",
        "              [42, -21, 50],\n",
        "              [21, 18, 17]])\n",
        "print(np.linalg.inv(A))"
      ],
      "execution_count": 38,
      "outputs": [
        {
          "output_type": "stream",
          "text": [
            "[[ 0.6125731  -0.01413255 -0.39083821]\n",
            " [-0.16374269 -0.00974659  0.14424951]\n",
            " [-0.58333333  0.02777778  0.38888889]]\n"
          ],
          "name": "stdout"
        }
      ]
    },
    {
      "cell_type": "markdown",
      "metadata": {
        "id": "VfQD_KcULT_X"
      },
      "source": [
        "TO FIND THE **MATRIX** **MULTIPLICATION**"
      ]
    },
    {
      "cell_type": "code",
      "metadata": {
        "colab": {
          "base_uri": "https://localhost:8080/"
        },
        "id": "Nl8gDmt7LfDT",
        "outputId": "9ea2ff57-7e09-432f-a304-91992ee1d017"
      },
      "source": [
        "h = [[11,21],[13,14]] \n",
        "i = [[25,16],[27,18]] \n",
        "np.matmul(h, i)"
      ],
      "execution_count": 39,
      "outputs": [
        {
          "output_type": "execute_result",
          "data": {
            "text/plain": [
              "array([[842, 554],\n",
              "       [703, 460]])"
            ]
          },
          "metadata": {
            "tags": []
          },
          "execution_count": 39
        }
      ]
    },
    {
      "cell_type": "markdown",
      "metadata": {
        "id": "1mUH0ZiSLtMf"
      },
      "source": [
        "TO FIND THE **DETERMINANT** OF MATRIX"
      ]
    },
    {
      "cell_type": "code",
      "metadata": {
        "colab": {
          "base_uri": "https://localhost:8080/"
        },
        "id": "u6L-eP1dLlCm",
        "outputId": "311f9e95-b756-4164-ea4c-d98b25381c59"
      },
      "source": [
        "n_array = np.array([[5, 9], [3, 4]])\n",
        "print(\"Numpy Matrix is:\")\n",
        "print(n_array)\n",
        "det = np.linalg.det(n_array)\n",
        "print(\"\\nDeterminant of given 2X2 matrix:\")\n",
        "print(int(det))"
      ],
      "execution_count": 41,
      "outputs": [
        {
          "output_type": "stream",
          "text": [
            "Numpy Matrix is:\n",
            "[[5 9]\n",
            " [3 4]]\n",
            "\n",
            "Determinant of given 2X2 matrix:\n",
            "-7\n"
          ],
          "name": "stdout"
        }
      ]
    },
    {
      "cell_type": "markdown",
      "metadata": {
        "id": "NFYSJqNqL1x5"
      },
      "source": [
        "TO FIND THE **RANK** OF **MATRIX**"
      ]
    },
    {
      "cell_type": "code",
      "metadata": {
        "colab": {
          "base_uri": "https://localhost:8080/"
        },
        "id": "Nt6xAF8tL4s4",
        "outputId": "bc7be0ec-c435-4a54-f240-7284e1d5c7b9"
      },
      "source": [
        "mx = np.array([[1,1,1],[0,1,2],[1,5,3]])\n",
        "np.linalg.matrix_rank(mx)"
      ],
      "execution_count": 42,
      "outputs": [
        {
          "output_type": "execute_result",
          "data": {
            "text/plain": [
              "3"
            ]
          },
          "metadata": {
            "tags": []
          },
          "execution_count": 42
        }
      ]
    },
    {
      "cell_type": "markdown",
      "metadata": {
        "id": "myldG41NL9DS"
      },
      "source": [
        "TO FIND THE **TRANSPOSE** OF THE **MATRIX**"
      ]
    },
    {
      "cell_type": "code",
      "metadata": {
        "colab": {
          "base_uri": "https://localhost:8080/"
        },
        "id": "EY6tkG-gMB8j",
        "outputId": "57968468-7a39-4d88-8c1f-4cf1d0e8b877"
      },
      "source": [
        "gfg = np.matrix('[14, 10; 1, 13]')\n",
        "trans = gfg.transpose()\n",
        "print(trans)"
      ],
      "execution_count": 44,
      "outputs": [
        {
          "output_type": "stream",
          "text": [
            "[[14  1]\n",
            " [10 13]]\n"
          ],
          "name": "stdout"
        }
      ]
    },
    {
      "cell_type": "markdown",
      "metadata": {
        "id": "fSH2rSXOMRn8"
      },
      "source": [
        "TO FIND THE **TRACE** OF **MATRIX**"
      ]
    },
    {
      "cell_type": "code",
      "metadata": {
        "colab": {
          "base_uri": "https://localhost:8080/"
        },
        "id": "FO43LOWnMTK6",
        "outputId": "43c529b2-e1c4-41b2-e24c-c11ad985e26b"
      },
      "source": [
        "gfg = np.matrix('[14, 10; 1, 13]')\n",
        "tracem = gfg.trace()\n",
        "print(tracem)"
      ],
      "execution_count": 46,
      "outputs": [
        {
          "output_type": "stream",
          "text": [
            "[[27]]\n"
          ],
          "name": "stdout"
        }
      ]
    },
    {
      "cell_type": "markdown",
      "metadata": {
        "id": "7_YvvvOIMfKI"
      },
      "source": [
        "\n",
        "TO FIND THE **EIGEN** **VALUES** AND **EIGEN** **VECTORS** OF MATRIX"
      ]
    },
    {
      "cell_type": "code",
      "metadata": {
        "colab": {
          "base_uri": "https://localhost:8080/"
        },
        "id": "aLjPmObOMjE6",
        "outputId": "c4f18afc-c096-4cec-90f7-0bb890e5538f"
      },
      "source": [
        "example_matrix = np.array([\n",
        "  [12,21,34,14],\n",
        "  [15,16,17,18],\n",
        "  [19,1,1,2],\n",
        "  [3,4,5,6]\n",
        "])\n",
        "eigenvalues, eigenvectors = np.linalg.eig(example_matrix)\n",
        "print(eigenvalues, eigenvectors)"
      ],
      "execution_count": 48,
      "outputs": [
        {
          "output_type": "stream",
          "text": [
            "[ 47.30276129 -19.25720613   5.5298591    1.42458574] [[ 0.71948278  0.72607644  0.19211288  0.02292175]\n",
            " [ 0.60106675 -0.00383505 -0.79340268 -0.86426443]\n",
            " [ 0.31463257 -0.68577396  0.5389771   0.40316585]\n",
            " [ 0.14855855  0.05012354 -0.20762589  0.2999648 ]]\n"
          ],
          "name": "stdout"
        }
      ]
    }
  ]
}
